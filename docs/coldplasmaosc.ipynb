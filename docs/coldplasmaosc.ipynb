{
 "cells": [
  {
   "cell_type": "code",
   "execution_count": 1,
   "metadata": {
    "collapsed": true
   },
   "outputs": [],
   "source": [
    "from sympy import *\n",
    "init_printing()\n",
    "from IPython.display import display"
   ]
  },
  {
   "cell_type": "code",
   "execution_count": 3,
   "metadata": {
    "collapsed": false
   },
   "outputs": [],
   "source": [
    "x, t = symbols('x t', real=True)\n",
    "m, epsilon, epsilon_zero = symbols('m epsilon epsilon0', real=True, positive=True)\n",
    "q = symbols('q', real=True)\n",
    "v0 = symbols('v0')\n",
    "v1 = Function('v1')(x,t)\n",
    "v = v0 + v1\n",
    "\n",
    "rho0 = symbols('rho0')\n",
    "rho1 = Function('rho1')(x,t)\n",
    "rho = rho0 + rho1\n",
    "\n",
    "J1 = rho0*v1 + rho1*v0\n",
    "\n",
    "E0 = symbols('E0')\n",
    "E1 = Function('E1')(x, t)\n",
    "E = E0 + E1\n",
    "\n",
    "omega, k, A = symbols('omega k A')"
   ]
  },
  {
   "cell_type": "code",
   "execution_count": 4,
   "metadata": {
    "collapsed": false
   },
   "outputs": [
    {
     "data": {
      "image/png": "[encoded data removed]",
      "text/latex": [
       "$$m v_{0} \\frac{\\partial}{\\partial x} \\operatorname{v_{1}}{\\left (x,t \\right )} + m \\operatorname{v_{1}}{\\left (x,t \\right )} \\frac{\\partial}{\\partial x} \\operatorname{v_{1}}{\\left (x,t \\right )} + m \\frac{\\partial}{\\partial t} \\operatorname{v_{1}}{\\left (x,t \\right )} = E_{0} q + q \\operatorname{E_{1}}{\\left (x,t \\right )}$$"
      ],
      "text/plain": [
       "     ∂                         ∂                ∂                             \n",
       "m⋅v₀⋅──(v₁(x, t)) + m⋅v₁(x, t)⋅──(v₁(x, t)) + m⋅──(v₁(x, t)) = E₀⋅q + q⋅E₁(x, \n",
       "     ∂x                        ∂x               ∂t                            \n",
       "\n",
       "  \n",
       "t)\n",
       "  "
      ]
     },
     "execution_count": 4,
     "metadata": {},
     "output_type": "execute_result"
    }
   ],
   "source": [
    "motion = Eq(m*(v.diff(t) + v*v.diff(x)), q*E)\n",
    "motion.expand()"
   ]
  },
  {
   "cell_type": "code",
   "execution_count": 5,
   "metadata": {
    "collapsed": false
   },
   "outputs": [
    {
     "data": {
      "image/png": "[encoded data removed]",
      "text/latex": [
       "$$m \\left(\\left(v_{0} + \\operatorname{v_{1}}{\\left (x,t \\right )}\\right) \\frac{\\partial}{\\partial x} \\operatorname{v_{1}}{\\left (x,t \\right )} + \\frac{\\partial}{\\partial t} \\operatorname{v_{1}}{\\left (x,t \\right )}\\right) = q \\left(E_{0} + \\operatorname{E_{1}}{\\left (x,t \\right )}\\right)$$"
      ],
      "text/plain": [
       "  ⎛                ∂              ∂           ⎞                    \n",
       "m⋅⎜(v₀ + v₁(x, t))⋅──(v₁(x, t)) + ──(v₁(x, t))⎟ = q⋅(E₀ + E₁(x, t))\n",
       "  ⎝                ∂x             ∂t          ⎠                    "
      ]
     },
     "metadata": {},
     "output_type": "display_data"
    },
    {
     "data": {
      "image/png": "[encoded data removed]",
      "text/latex": [
       "$$m \\left(\\left(A A_{0} e^{i \\left(k x - \\omega t\\right)} + v_{0}\\right) \\frac{\\partial}{\\partial x}\\left(A A_{0} e^{i \\left(k x - \\omega t\\right)}\\right) + \\frac{\\partial}{\\partial t}\\left(A A_{0} e^{i \\left(k x - \\omega t\\right)}\\right)\\right) = q \\left(E_{0} + \\operatorname{E_{1}}{\\left (x,t \\right )}\\right)$$"
      ],
      "text/plain": [
       "  ⎛⎛      ⅈ⋅(k⋅x - ω⋅t)     ⎞ ∂ ⎛      ⅈ⋅(k⋅x - ω⋅t)⎞   ∂ ⎛      ⅈ⋅(k⋅x - ω⋅t)\n",
       "m⋅⎜⎝A⋅A₀⋅ℯ              + v₀⎠⋅──⎝A⋅A₀⋅ℯ             ⎠ + ──⎝A⋅A₀⋅ℯ             \n",
       "  ⎝                           ∂x                        ∂t                    \n",
       "\n",
       "⎞⎞                    \n",
       "⎠⎟ = q⋅(E₀ + E₁(x, t))\n",
       " ⎠                    "
      ]
     },
     "metadata": {},
     "output_type": "display_data"
    },
    {
     "data": {
      "image/png": "[encoded data removed]",
      "text/latex": [
       "$$i A^{2} A_{0}^{2} k m e^{2 i k x} e^{- 2 i \\omega t} + i A A_{0} k m v_{0} e^{i k x} e^{- i \\omega t} - i A A_{0} m \\omega e^{i k x} e^{- i \\omega t} = E_{0} q + q \\operatorname{E_{1}}{\\left (x,t \\right )}$$"
      ],
      "text/plain": [
       "   2   2      2⋅ⅈ⋅k⋅x  -2⋅ⅈ⋅ω⋅t                  ⅈ⋅k⋅x  -ⅈ⋅ω⋅t               ⅈ\n",
       "ⅈ⋅A ⋅A₀ ⋅k⋅m⋅ℯ       ⋅ℯ         + ⅈ⋅A⋅A₀⋅k⋅m⋅v₀⋅ℯ     ⋅ℯ       - ⅈ⋅A⋅A₀⋅m⋅ω⋅ℯ \n",
       "\n",
       "⋅k⋅x  -ⅈ⋅ω⋅t                    \n",
       "    ⋅ℯ       = E₀⋅q + q⋅E₁(x, t)"
      ]
     },
     "metadata": {},
     "output_type": "display_data"
    },
    {
     "name": "stdout",
     "output_type": "stream",
     "text": [
      "Removing A^2\n"
     ]
    },
    {
     "data": {
      "image/png": "[encoded data removed]",
      "text/latex": [
       "$$i A A_{0} k m v_{0} e^{i k x} e^{- i \\omega t} - i A A_{0} m \\omega e^{i k x} e^{- i \\omega t} = E_{0} q + q \\operatorname{E_{1}}{\\left (x,t \\right )}$$"
      ],
      "text/plain": [
       "               ⅈ⋅k⋅x  -ⅈ⋅ω⋅t               ⅈ⋅k⋅x  -ⅈ⋅ω⋅t                    \n",
       "ⅈ⋅A⋅A₀⋅k⋅m⋅v₀⋅ℯ     ⋅ℯ       - ⅈ⋅A⋅A₀⋅m⋅ω⋅ℯ     ⋅ℯ       = E₀⋅q + q⋅E₁(x, t)"
      ]
     },
     "metadata": {},
     "output_type": "display_data"
    },
    {
     "data": {
      "image/png": "[encoded data removed]",
      "text/latex": [
       "$$q \\left(E_{0} + \\operatorname{E_{1}}{\\left (x,t \\right )}\\right) = i m \\left(k v_{0} - \\omega\\right) \\operatorname{v_{1}}{\\left (x,t \\right )}$$"
      ],
      "text/plain": [
       "q⋅(E₀ + E₁(x, t)) = ⅈ⋅m⋅(k⋅v₀ - ω)⋅v₁(x, t)"
      ]
     },
     "metadata": {},
     "output_type": "display_data"
    },
    {
     "data": {
      "image/png": "[encoded data removed]",
      "text/latex": [
       "$$q \\operatorname{E_{1}}{\\left (x,t \\right )} = i m \\left(k v_{0} - \\omega\\right) \\operatorname{v_{1}}{\\left (x,t \\right )}$$"
      ],
      "text/plain": [
       "q⋅E₁(x, t) = ⅈ⋅m⋅(k⋅v₀ - ω)⋅v₁(x, t)"
      ]
     },
     "metadata": {},
     "output_type": "display_data"
    }
   ],
   "source": [
    "def linearize(eq, linearized, zeroes = []):\n",
    "    display(eq)\n",
    "    coefficients = [symbols(\"A\"+str(i)) for i in range(len(linearized))]\n",
    "    for coeff, item in zip(coefficients, linearized):\n",
    "        eq = eq.subs({item: A*coeff*exp(I*(k*x-omega*t))})\n",
    "        display(eq)\n",
    "        eq = eq.expand().doit()\n",
    "        display(eq)\n",
    "    eq = eq.subs({A**2:0})\n",
    "    print(\"Removing A^2\")\n",
    "    display(eq)\n",
    "    for coeff, item in zip(coefficients, linearized):\n",
    "        eq = eq.simplify().subs({A*coeff*exp(I*(k*x-omega*t)):item})\n",
    "        display(eq)\n",
    "    for item in zeroes:\n",
    "        eq = eq.subs({item: 0})\n",
    "        display(eq)\n",
    "    return eq\n",
    "motion_expanded = linearize(motion, [v1], [E0])"
   ]
  },
  {
   "cell_type": "code",
   "execution_count": 6,
   "metadata": {
    "collapsed": false
   },
   "outputs": [
    {
     "data": {
      "image/png": "[encoded data removed]",
      "text/latex": [
       "$$- \\frac{i q \\operatorname{E_{1}}{\\left (x,t \\right )}}{m \\left(k v_{0} - \\omega\\right)}$$"
      ],
      "text/plain": [
       "-ⅈ⋅q⋅E₁(x, t) \n",
       "──────────────\n",
       " m⋅(k⋅v₀ - ω) "
      ]
     },
     "execution_count": 6,
     "metadata": {},
     "output_type": "execute_result"
    }
   ],
   "source": [
    "v1_solution, = solve(motion_expanded, v1)\n",
    "v1_solution"
   ]
  },
  {
   "cell_type": "code",
   "execution_count": 7,
   "metadata": {
    "collapsed": false
   },
   "outputs": [
    {
     "data": {
      "image/png": "[encoded data removed]",
      "text/latex": [
       "$$\\left(\\rho_{0} + \\rho_{1}{\\left (x,t \\right )}\\right) \\frac{\\partial}{\\partial x} \\operatorname{v_{1}}{\\left (x,t \\right )} + \\left(v_{0} + \\operatorname{v_{1}}{\\left (x,t \\right )}\\right) \\frac{\\partial}{\\partial x} \\rho_{1}{\\left (x,t \\right )} + \\frac{\\partial}{\\partial t} \\rho_{1}{\\left (x,t \\right )} = 0$$"
      ],
      "text/plain": [
       "                ∂                              ∂              ∂               \n",
       "(ρ₀ + ρ₁(x, t))⋅──(v₁(x, t)) + (v₀ + v₁(x, t))⋅──(ρ₁(x, t)) + ──(ρ₁(x, t)) = 0\n",
       "                ∂x                             ∂x             ∂t              "
      ]
     },
     "execution_count": 7,
     "metadata": {},
     "output_type": "execute_result"
    }
   ],
   "source": [
    "continuity = Eq((rho*v).diff(x) + rho.diff(t))\n",
    "continuity"
   ]
  },
  {
   "cell_type": "code",
   "execution_count": 8,
   "metadata": {
    "collapsed": false
   },
   "outputs": [
    {
     "data": {
      "image/png": "[encoded data removed]",
      "text/latex": [
       "$$\\left(\\rho_{0} + \\rho_{1}{\\left (x,t \\right )}\\right) \\frac{\\partial}{\\partial x} \\operatorname{v_{1}}{\\left (x,t \\right )} + \\left(v_{0} + \\operatorname{v_{1}}{\\left (x,t \\right )}\\right) \\frac{\\partial}{\\partial x} \\rho_{1}{\\left (x,t \\right )} + \\frac{\\partial}{\\partial t} \\rho_{1}{\\left (x,t \\right )} = 0$$"
      ],
      "text/plain": [
       "                ∂                              ∂              ∂               \n",
       "(ρ₀ + ρ₁(x, t))⋅──(v₁(x, t)) + (v₀ + v₁(x, t))⋅──(ρ₁(x, t)) + ──(ρ₁(x, t)) = 0\n",
       "                ∂x                             ∂x             ∂t              "
      ]
     },
     "metadata": {},
     "output_type": "display_data"
    },
    {
     "data": {
      "image/png": "[encoded data removed]",
      "text/latex": [
       "$$\\left(\\rho_{0} + \\rho_{1}{\\left (x,t \\right )}\\right) \\frac{\\partial}{\\partial x}\\left(A A_{0} e^{i \\left(k x - \\omega t\\right)}\\right) + \\left(A A_{0} e^{i \\left(k x - \\omega t\\right)} + v_{0}\\right) \\frac{\\partial}{\\partial x} \\rho_{1}{\\left (x,t \\right )} + \\frac{\\partial}{\\partial t} \\rho_{1}{\\left (x,t \\right )} = 0$$"
      ],
      "text/plain": [
       "                ∂ ⎛      ⅈ⋅(k⋅x - ω⋅t)⎞   ⎛      ⅈ⋅(k⋅x - ω⋅t)     ⎞ ∂        \n",
       "(ρ₀ + ρ₁(x, t))⋅──⎝A⋅A₀⋅ℯ             ⎠ + ⎝A⋅A₀⋅ℯ              + v₀⎠⋅──(ρ₁(x, \n",
       "                ∂x                                                   ∂x       \n",
       "\n",
       "      ∂               \n",
       "t)) + ──(ρ₁(x, t)) = 0\n",
       "      ∂t              "
      ]
     },
     "metadata": {},
     "output_type": "display_data"
    },
    {
     "data": {
      "image/png": "[encoded data removed]",
      "text/latex": [
       "$$i A A_{0} k \\rho_{0} e^{i k x} e^{- i \\omega t} + i A A_{0} k \\rho_{1}{\\left (x,t \\right )} e^{i k x} e^{- i \\omega t} + A A_{0} e^{i k x} e^{- i \\omega t} \\frac{\\partial}{\\partial x} \\rho_{1}{\\left (x,t \\right )} + v_{0} \\frac{\\partial}{\\partial x} \\rho_{1}{\\left (x,t \\right )} + \\frac{\\partial}{\\partial t} \\rho_{1}{\\left (x,t \\right )} = 0$$"
      ],
      "text/plain": [
       "             ⅈ⋅k⋅x  -ⅈ⋅ω⋅t                      ⅈ⋅k⋅x  -ⅈ⋅ω⋅t         ⅈ⋅k⋅x  -\n",
       "ⅈ⋅A⋅A₀⋅k⋅ρ₀⋅ℯ     ⋅ℯ       + ⅈ⋅A⋅A₀⋅k⋅ρ₁(x, t)⋅ℯ     ⋅ℯ       + A⋅A₀⋅ℯ     ⋅ℯ \n",
       "                                                                              \n",
       "\n",
       "ⅈ⋅ω⋅t ∂                 ∂              ∂               \n",
       "     ⋅──(ρ₁(x, t)) + v₀⋅──(ρ₁(x, t)) + ──(ρ₁(x, t)) = 0\n",
       "      ∂x                ∂x             ∂t              "
      ]
     },
     "metadata": {},
     "output_type": "display_data"
    },
    {
     "data": {
      "image/png": "[encoded data removed]",
      "text/latex": [
       "$$i A^{2} A_{0} A_{1} k e^{i \\left(k x - \\omega t\\right)} e^{i k x} e^{- i \\omega t} + i A A_{0} k \\rho_{0} e^{i k x} e^{- i \\omega t} + A A_{0} e^{i k x} e^{- i \\omega t} \\frac{\\partial}{\\partial x}\\left(A A_{1} e^{i \\left(k x - \\omega t\\right)}\\right) + v_{0} \\frac{\\partial}{\\partial x}\\left(A A_{1} e^{i \\left(k x - \\omega t\\right)}\\right) + \\frac{\\partial}{\\partial t}\\left(A A_{1} e^{i \\left(k x - \\omega t\\right)}\\right) = 0$$"
      ],
      "text/plain": [
       "   2          ⅈ⋅(k⋅x - ω⋅t)  ⅈ⋅k⋅x  -ⅈ⋅ω⋅t                ⅈ⋅k⋅x  -ⅈ⋅ω⋅t       \n",
       "ⅈ⋅A ⋅A₀⋅A₁⋅k⋅ℯ             ⋅ℯ     ⋅ℯ       + ⅈ⋅A⋅A₀⋅k⋅ρ₀⋅ℯ     ⋅ℯ       + A⋅A₀\n",
       "                                                                              \n",
       "\n",
       "  ⅈ⋅k⋅x  -ⅈ⋅ω⋅t ∂ ⎛      ⅈ⋅(k⋅x - ω⋅t)⎞      ∂ ⎛      ⅈ⋅(k⋅x - ω⋅t)⎞   ∂ ⎛    \n",
       "⋅ℯ     ⋅ℯ      ⋅──⎝A⋅A₁⋅ℯ             ⎠ + v₀⋅──⎝A⋅A₁⋅ℯ             ⎠ + ──⎝A⋅A₁\n",
       "                ∂x                           ∂x                        ∂t     \n",
       "\n",
       "  ⅈ⋅(k⋅x - ω⋅t)⎞    \n",
       "⋅ℯ             ⎠ = 0\n",
       "                    "
      ]
     },
     "metadata": {},
     "output_type": "display_data"
    },
    {
     "data": {
      "image/png": "[encoded data removed]",
      "text/latex": [
       "$$2 i A^{2} A_{0} A_{1} k e^{2 i k x} e^{- 2 i \\omega t} + i A A_{0} k \\rho_{0} e^{i k x} e^{- i \\omega t} + i A A_{1} k v_{0} e^{i k x} e^{- i \\omega t} - i A A_{1} \\omega e^{i k x} e^{- i \\omega t} = 0$$"
      ],
      "text/plain": [
       "     2          2⋅ⅈ⋅k⋅x  -2⋅ⅈ⋅ω⋅t                ⅈ⋅k⋅x  -ⅈ⋅ω⋅t                \n",
       "2⋅ⅈ⋅A ⋅A₀⋅A₁⋅k⋅ℯ       ⋅ℯ         + ⅈ⋅A⋅A₀⋅k⋅ρ₀⋅ℯ     ⋅ℯ       + ⅈ⋅A⋅A₁⋅k⋅v₀⋅ℯ\n",
       "\n",
       "ⅈ⋅k⋅x  -ⅈ⋅ω⋅t             ⅈ⋅k⋅x  -ⅈ⋅ω⋅t    \n",
       "     ⋅ℯ       - ⅈ⋅A⋅A₁⋅ω⋅ℯ     ⋅ℯ       = 0"
      ]
     },
     "metadata": {},
     "output_type": "display_data"
    },
    {
     "name": "stdout",
     "output_type": "stream",
     "text": [
      "Removing A^2\n"
     ]
    },
    {
     "data": {
      "image/png": "[encoded data removed]",
      "text/latex": [
       "$$i A A_{0} k \\rho_{0} e^{i k x} e^{- i \\omega t} + i A A_{1} k v_{0} e^{i k x} e^{- i \\omega t} - i A A_{1} \\omega e^{i k x} e^{- i \\omega t} = 0$$"
      ],
      "text/plain": [
       "             ⅈ⋅k⋅x  -ⅈ⋅ω⋅t                ⅈ⋅k⋅x  -ⅈ⋅ω⋅t             ⅈ⋅k⋅x  -ⅈ⋅\n",
       "ⅈ⋅A⋅A₀⋅k⋅ρ₀⋅ℯ     ⋅ℯ       + ⅈ⋅A⋅A₁⋅k⋅v₀⋅ℯ     ⋅ℯ       - ⅈ⋅A⋅A₁⋅ω⋅ℯ     ⋅ℯ   \n",
       "\n",
       "ω⋅t    \n",
       "    = 0"
      ]
     },
     "metadata": {},
     "output_type": "display_data"
    },
    {
     "data": {
      "image/png": "[encoded data removed]",
      "text/latex": [
       "$$i A \\left(A_{0} k \\rho_{0} + A_{1} k v_{0} - A_{1} \\omega\\right) e^{i \\left(k x - \\omega t\\right)} = 0$$"
      ],
      "text/plain": [
       "                                ⅈ⋅(k⋅x - ω⋅t)    \n",
       "ⅈ⋅A⋅(A₀⋅k⋅ρ₀ + A₁⋅k⋅v₀ - A₁⋅ω)⋅ℯ              = 0"
      ]
     },
     "metadata": {},
     "output_type": "display_data"
    },
    {
     "data": {
      "image/png": "[encoded data removed]",
      "text/latex": [
       "$$i A \\left(A_{0} k \\rho_{0} + A_{1} k v_{0} - A_{1} \\omega\\right) e^{i \\left(k x - \\omega t\\right)} = 0$$"
      ],
      "text/plain": [
       "                                ⅈ⋅(k⋅x - ω⋅t)    \n",
       "ⅈ⋅A⋅(A₀⋅k⋅ρ₀ + A₁⋅k⋅v₀ - A₁⋅ω)⋅ℯ              = 0"
      ]
     },
     "metadata": {},
     "output_type": "display_data"
    }
   ],
   "source": [
    "continuity_expanded = linearize(continuity, [v1, rho1])"
   ]
  },
  {
   "cell_type": "code",
   "execution_count": 9,
   "metadata": {
    "collapsed": false
   },
   "outputs": [
    {
     "data": {
      "image/png": "[encoded data removed]",
      "text/latex": [
       "$$- \\frac{k \\rho_{0} \\operatorname{v_{1}}{\\left (x,t \\right )}}{k v_{0} - \\omega}$$"
      ],
      "text/plain": [
       "-k⋅ρ₀⋅v₁(x, t) \n",
       "───────────────\n",
       "    k⋅v₀ - ω   "
      ]
     },
     "execution_count": 9,
     "metadata": {},
     "output_type": "execute_result"
    }
   ],
   "source": [
    "continuity_finished = Eq((v1*k*rho0+rho1*k*v0-omega*rho1))\n",
    "rho1_solution, = solve(continuity_finished, rho1)\n",
    "rho1_solution"
   ]
  },
  {
   "cell_type": "code",
   "execution_count": 29,
   "metadata": {
    "collapsed": false
   },
   "outputs": [
    {
     "data": {
      "image/png": "[encoded data removed]",
      "text/latex": [
       "$$\\frac{i \\omega}{\\epsilon_{0}} \\epsilon \\operatorname{E_{1}}{\\left (x,t \\right )} - i \\omega \\operatorname{E_{1}}{\\left (x,t \\right )} + \\frac{1}{\\epsilon_{0}} \\left(\\frac{i k q \\rho_{0} v_{0} \\operatorname{E_{1}}{\\left (x,t \\right )}}{m \\left(k v_{0} - \\omega\\right)^{2}} - \\frac{i q \\rho_{0} \\operatorname{E_{1}}{\\left (x,t \\right )}}{m \\left(k v_{0} - \\omega\\right)}\\right)$$"
      ],
      "text/plain": [
       "                                ⅈ⋅k⋅q⋅ρ₀⋅v₀⋅E₁(x, t)   ⅈ⋅q⋅ρ₀⋅E₁(x, t)\n",
       "                                ──────────────────── - ───────────────\n",
       "                                               2         m⋅(k⋅v₀ - ω) \n",
       "ⅈ⋅ε⋅ω⋅E₁(x, t)                     m⋅(k⋅v₀ - ω)                       \n",
       "────────────── - ⅈ⋅ω⋅E₁(x, t) + ──────────────────────────────────────\n",
       "      ε₀                                          ε₀                  "
      ]
     },
     "execution_count": 29,
     "metadata": {},
     "output_type": "execute_result"
    }
   ],
   "source": [
    "n0 = symbols('n0')\n",
    "final_eq = J1.subs({v1:v1_solution, rho1:rho1_solution})/epsilon_zero - I*omega*E1 +I*omega*epsilon*E1/epsilon_zero.subs({rho0:n0*q}).simplify()\n",
    "final_eq"
   ]
  },
  {
   "cell_type": "code",
   "execution_count": 30,
   "metadata": {
    "collapsed": false
   },
   "outputs": [
    {
     "data": {
      "image/png": "[encoded data removed]",
      "text/latex": [
       "$$\\omega_{pe}$$"
      ],
      "text/plain": [
       "ωₚₑ"
      ]
     },
     "execution_count": 30,
     "metadata": {},
     "output_type": "execute_result"
    }
   ],
   "source": [
    "omega_plasma = sqrt(n0*q**2/m/epsilon_zero)\n",
    "omega_pe = symbols('omega_pe')\n",
    "omega_pe"
   ]
  },
  {
   "cell_type": "code",
   "execution_count": 50,
   "metadata": {
    "collapsed": false
   },
   "outputs": [
    {
     "data": {
      "image/png": "[encoded data removed]",
      "text/latex": [
       "$$\\frac{\\epsilon}{\\epsilon_{0}} - 1 + \\frac{\\neg \\omega_{pe}}{\\left(k v_{0} - \\omega\\right)^{2}}$$"
      ],
      "text/plain": [
       "ε            ¬ωₚₑ   \n",
       "── - 1 + ───────────\n",
       "ε₀                 2\n",
       "         (k⋅v₀ - ω) "
      ]
     },
     "execution_count": 50,
     "metadata": {},
     "output_type": "execute_result"
    }
   ],
   "source": [
    "eq14 = simplify(final_eq.subs({rho0: q*n0})/(I*omega*E1)).subs({n0*q**2/m/epsilon_zero:omega_pe^2})\n",
    "eq14"
   ]
  }
 ],
 "metadata": {
  "anaconda-cloud": {},
  "kernelspec": {
   "display_name": "Python [conda root]",
   "language": "python",
   "name": "conda-root-py"
  },
  "language_info": {
   "codemirror_mode": {
    "name": "ipython",
    "version": 3
   },
   "file_extension": ".py",
   "mimetype": "text/x-python",
   "name": "python",
   "nbconvert_exporter": "python",
   "pygments_lexer": "ipython3",
   "version": "3.5.2"
  }
 },
 "nbformat": 4,
 "nbformat_minor": 1
}
